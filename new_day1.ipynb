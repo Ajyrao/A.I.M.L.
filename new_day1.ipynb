{
 "cells": [
  {
   "cell_type": "code",
   "execution_count": 2,
   "metadata": {},
   "outputs": [
    {
     "name": "stdout",
     "output_type": "stream",
     "text": [
      "Defaulting to user installation because normal site-packages is not writeable\n",
      "Requirement already satisfied: speechRecognition in c:\\users\\tech solution\\appdata\\roaming\\python\\python310\\site-packages (3.10.0)\n",
      "Requirement already satisfied: requests>=2.26.0 in c:\\users\\tech solution\\appdata\\roaming\\python\\python310\\site-packages (from speechRecognition) (2.30.0)\n",
      "Requirement already satisfied: charset-normalizer<4,>=2 in c:\\users\\tech solution\\appdata\\roaming\\python\\python310\\site-packages (from requests>=2.26.0->speechRecognition) (3.1.0)\n",
      "Requirement already satisfied: urllib3<3,>=1.21.1 in c:\\users\\tech solution\\appdata\\roaming\\python\\python310\\site-packages (from requests>=2.26.0->speechRecognition) (2.0.2)\n",
      "Requirement already satisfied: certifi>=2017.4.17 in c:\\users\\tech solution\\appdata\\roaming\\python\\python310\\site-packages (from requests>=2.26.0->speechRecognition) (2023.5.7)\n",
      "Requirement already satisfied: idna<4,>=2.5 in c:\\users\\tech solution\\appdata\\roaming\\python\\python310\\site-packages (from requests>=2.26.0->speechRecognition) (3.4)\n",
      "Note: you may need to restart the kernel to use updated packages.\n"
     ]
    },
    {
     "name": "stderr",
     "output_type": "stream",
     "text": [
      "WARNING: You are using pip version 21.2.4; however, version 23.2.1 is available.\n",
      "You should consider upgrading via the 'c:\\Program Files\\Python310\\python.exe -m pip install --upgrade pip' command.\n"
     ]
    }
   ],
   "source": [
    "%pip install speechRecognition\n"
   ]
  },
  {
   "cell_type": "code",
   "execution_count": 3,
   "metadata": {},
   "outputs": [
    {
     "name": "stdout",
     "output_type": "stream",
     "text": [
      "Defaulting to user installation because normal site-packages is not writeable\n",
      "Requirement already satisfied: pyaudio in c:\\users\\tech solution\\appdata\\roaming\\python\\python310\\site-packages (0.2.11)\n",
      "Note: you may need to restart the kernel to use updated packages.\n"
     ]
    },
    {
     "name": "stderr",
     "output_type": "stream",
     "text": [
      "WARNING: You are using pip version 21.2.4; however, version 23.2.1 is available.\n",
      "You should consider upgrading via the 'c:\\Program Files\\Python310\\python.exe -m pip install --upgrade pip' command.\n"
     ]
    }
   ],
   "source": [
    "%pip install pyaudio"
   ]
  },
  {
   "cell_type": "code",
   "execution_count": 4,
   "metadata": {},
   "outputs": [
    {
     "name": "stdout",
     "output_type": "stream",
     "text": [
      "Defaulting to user installation because normal site-packages is not writeableNote: you may need to restart the kernel to use updated packages.\n",
      "\n",
      "Requirement already satisfied: pyttsx3 in c:\\users\\tech solution\\appdata\\roaming\\python\\python310\\site-packages (2.90)\n",
      "Requirement already satisfied: pypiwin32 in c:\\users\\tech solution\\appdata\\roaming\\python\\python310\\site-packages (from pyttsx3) (223)\n",
      "Requirement already satisfied: pywin32 in c:\\users\\tech solution\\appdata\\roaming\\python\\python310\\site-packages (from pyttsx3) (306)\n",
      "Requirement already satisfied: comtypes in c:\\users\\tech solution\\appdata\\roaming\\python\\python310\\site-packages (from pyttsx3) (1.2.0)\n"
     ]
    },
    {
     "name": "stderr",
     "output_type": "stream",
     "text": [
      "WARNING: You are using pip version 21.2.4; however, version 23.2.1 is available.\n",
      "You should consider upgrading via the 'c:\\Program Files\\Python310\\python.exe -m pip install --upgrade pip' command.\n"
     ]
    }
   ],
   "source": [
    "%pip install pyttsx3"
   ]
  },
  {
   "cell_type": "code",
   "execution_count": 5,
   "metadata": {},
   "outputs": [
    {
     "name": "stdout",
     "output_type": "stream",
     "text": [
      "Defaulting to user installation because normal site-packages is not writeableNote: you may need to restart the kernel to use updated packages.\n",
      "\n",
      "Requirement already satisfied: nltk in c:\\users\\tech solution\\appdata\\roaming\\python\\python310\\site-packages (3.8.1)\n",
      "Requirement already satisfied: tqdm in c:\\users\\tech solution\\appdata\\roaming\\python\\python310\\site-packages (from nltk) (4.65.0)\n",
      "Requirement already satisfied: regex>=2021.8.3 in c:\\users\\tech solution\\appdata\\roaming\\python\\python310\\site-packages (from nltk) (2023.6.3)\n",
      "Requirement already satisfied: click in c:\\users\\tech solution\\appdata\\roaming\\python\\python310\\site-packages (from nltk) (8.1.3)\n",
      "Requirement already satisfied: joblib in c:\\users\\tech solution\\appdata\\roaming\\python\\python310\\site-packages (from nltk) (1.3.1)\n",
      "Requirement already satisfied: colorama in c:\\users\\tech solution\\appdata\\roaming\\python\\python310\\site-packages (from click->nltk) (0.4.6)\n"
     ]
    },
    {
     "name": "stderr",
     "output_type": "stream",
     "text": [
      "WARNING: You are using pip version 21.2.4; however, version 23.2.1 is available.\n",
      "You should consider upgrading via the 'c:\\Program Files\\Python310\\python.exe -m pip install --upgrade pip' command.\n"
     ]
    }
   ],
   "source": [
    "%pip install nltk"
   ]
  },
  {
   "cell_type": "markdown",
   "metadata": {},
   "source": []
  },
  {
   "cell_type": "code",
   "execution_count": null,
   "metadata": {},
   "outputs": [],
   "source": []
  },
  {
   "cell_type": "code",
   "execution_count": 2,
   "metadata": {},
   "outputs": [],
   "source": [
    "import speech_recognition as sr\n",
    "import pyttsx3"
   ]
  },
  {
   "cell_type": "code",
   "execution_count": 3,
   "metadata": {},
   "outputs": [
    {
     "name": "stdout",
     "output_type": "stream",
     "text": [
      "speak now\n",
      "you said: hey\n",
      "\n"
     ]
    }
   ],
   "source": [
    "spk = pyttsx3.init()\n",
    "spk.setProperty('rate',130)  #woed for minute\n",
    "spk.setProperty('volume',1.0) #100% volume\n",
    "\n",
    "rec = sr.Recognizer()\n",
    "with sr.Microphone() as mic:\n",
    "    print('speak now')\n",
    "    spk.say('speak now')\n",
    "    spk.runAndWait()\n",
    "    audio =rec.listen(mic,timeout=1,phrase_time_limit=4)\n",
    "    try:\n",
    "        ask = rec.recognize_google(audio,)\n",
    "        print('you said:',ask,end='\\n\\n')\n",
    "        spk.say('you might say,'+ask)\n",
    "        spk.runAndWait()\n",
    "    except Exception as err:\n",
    "        print('Error:', err,end='\\n\\n')\n",
    "\n"
   ]
  }
 ],
 "metadata": {
  "kernelspec": {
   "display_name": "Python 3",
   "language": "python",
   "name": "python3"
  },
  "language_info": {
   "codemirror_mode": {
    "name": "ipython",
    "version": 3
   },
   "file_extension": ".py",
   "mimetype": "text/x-python",
   "name": "python",
   "nbconvert_exporter": "python",
   "pygments_lexer": "ipython3",
   "version": "3.10.1"
  },
  "orig_nbformat": 4
 },
 "nbformat": 4,
 "nbformat_minor": 2
}
